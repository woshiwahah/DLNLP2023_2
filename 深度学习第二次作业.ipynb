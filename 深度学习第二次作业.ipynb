{
 "cells": [
  {
   "cell_type": "code",
   "execution_count": 72,
   "id": "be1c1635",
   "metadata": {},
   "outputs": [
    {
     "data": {
      "image/png": "[encoded data removed]",
      "text/plain": [
       "<Figure size 432x288 with 1 Axes>"
      ]
     },
     "metadata": {
      "needs_background": "light"
     },
     "output_type": "display_data"
    }
   ],
   "source": [
    "import numpy as np\n",
    "import pandas as pd\n",
    "import matplotlib.pyplot as plt\n",
    "\n",
    "# 定义高斯分布的参数\n",
    "mean1, std1 = 164, 3\n",
    "mean2, std2 = 176, 5\n",
    "\n",
    "# 从两个高斯分布中生成各50个样本\n",
    "data1 = np.random.normal(mean1, std1, 500)\n",
    "data2 = np.random.normal(mean2, std2, 1500)\n",
    "data = np.concatenate((data1, data2), axis=0)\n",
    "\n",
    "# 将数据写入 CSV 文件\n",
    "df = pd.DataFrame(data, columns=['height'])\n",
    "df.to_csv('height_data.csv', index=False)\n",
    "\n",
    "# 绘制数据的直方图\n",
    "plt.hist(data, bins=20)\n",
    "plt.xlabel('Height (cm)')\n",
    "plt.ylabel('Count')\n",
    "plt.title('Distribution of Heights')\n",
    "plt.show()"
   ]
  },
  {
   "cell_type": "code",
   "execution_count": 8,
   "id": "9a08a554",
   "metadata": {},
   "outputs": [
    {
     "data": {
      "text/plain": [
       "(2000,)"
      ]
     },
     "execution_count": 8,
     "metadata": {},
     "output_type": "execute_result"
    }
   ],
   "source": [
    "data.shape\n"
   ]
  },
  {
   "cell_type": "code",
   "execution_count": 73,
   "id": "92049dff",
   "metadata": {},
   "outputs": [
    {
     "data": {
      "image/png": "[encoded data removed]",
      "text/plain": [
       "<Figure size 432x288 with 1 Axes>"
      ]
     },
     "metadata": {
      "needs_background": "light"
     },
     "output_type": "display_data"
    }
   ],
   "source": [
    "import numpy as np\n",
    "import matplotlib.pyplot as plt\n",
    "from scipy.stats import norm\n",
    "def gaussian(x, mu, sigma):\n",
    "    return (1 / (sigma * np.sqrt(2 * np.pi))) * np.exp(-0.5 * ((x - mu) / sigma) ** 2)\n",
    "\n",
    "def em_gmm(data, k, max_iter=100):\n",
    "    n = len(data)\n",
    "    weights = np.ones(k) / k\n",
    "    means = np.random.choice(data, k)\n",
    "    variances = np.ones(k)\n",
    "\n",
    "    for i in range(max_iter):\n",
    "        # E-step\n",
    "        likelihoods = np.zeros((n, k))\n",
    "        for j in range(k):\n",
    "            likelihoods[:, j] = weights[j] * gaussian(data, means[j], np.sqrt(variances[j]))\n",
    "        likelihoods_sum = np.sum(likelihoods, axis=1)\n",
    "        likelihoods /= likelihoods_sum.reshape(-1, 1)\n",
    "        weights = np.mean(likelihoods, axis=0)\n",
    "\n",
    "        # M-step\n",
    "        means = np.sum(likelihoods * data.reshape(-1, 1), axis=0) / np.sum(likelihoods, axis=0)\n",
    "        variances = np.sum(likelihoods * (data.reshape(-1, 1) - means) ** 2, axis=0) / np.sum(likelihoods, axis=0)\n",
    "\n",
    "    return weights, means, variances\n",
    "\n",
    "# 运行EM算法\n",
    "weights, means, variances = em_gmm(data, k=2)\n",
    "\n",
    "# 可视化结果\n",
    "x = np.linspace(150, 195, 5000)\n",
    "y = weights[0] * gaussian(x, means[0], np.sqrt(variances[0])) + weights[1] * gaussian(x, means[1], np.sqrt(variances[1]))\n",
    "plt.hist(data, bins=50, density=True, alpha=0.5)\n",
    "plt.plot(x, y, 'r-', linewidth=2)\n",
    "plt.show()\n",
    "\n",
    "# 预测身高所属的高斯分布\n",
    "def predict(X, pi, mu, sigma):\n",
    "    K = len(pi)\n",
    "    gamma = np.zeros((np.size(X,0), K))\n",
    "    for k in range(K):\n",
    "        gamma[:, k] = pi[k] * norm.pdf(X, mu[k], sigma[k])\n",
    "    return gamma.argmax(axis=1)\n",
    "\n",
    "# 预测身高所属的高斯分布\n",
    "pred = predict(data, weights, means, variances)\n"
   ]
  },
  {
   "cell_type": "code",
   "execution_count": 78,
   "id": "009db78d",
   "metadata": {},
   "outputs": [
    {
     "data": {
      "text/plain": [
       "array([2.95908251, 5.01551471])"
      ]
     },
     "execution_count": 78,
     "metadata": {},
     "output_type": "execute_result"
    }
   ],
   "source": [
    "np.sqrt(variances)\n"
   ]
  },
  {
   "cell_type": "code",
   "execution_count": null,
   "id": "3fe5fca1",
   "metadata": {},
   "outputs": [],
   "source": []
  }
 ],
 "metadata": {
  "kernelspec": {
   "display_name": "Python 3",
   "language": "python",
   "name": "python3"
  },
  "language_info": {
   "codemirror_mode": {
    "name": "ipython",
    "version": 3
   },
   "file_extension": ".py",
   "mimetype": "text/x-python",
   "name": "python",
   "nbconvert_exporter": "python",
   "pygments_lexer": "ipython3",
   "version": "3.7.6"
  }
 },
 "nbformat": 4,
 "nbformat_minor": 5
}
